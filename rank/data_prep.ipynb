{
 "cells": [
  {
   "cell_type": "code",
   "execution_count": 1,
   "id": "e010c7ae-4d1f-4783-9b83-9f5414f392de",
   "metadata": {
    "ExecuteTime": {
     "end_time": "2023-08-04T07:31:46.736324Z",
     "start_time": "2023-08-04T07:31:46.627931Z"
    },
    "tags": []
   },
   "outputs": [],
   "source": [
    "import warnings\n",
    "import os\n",
    "import sys\n",
    "\n",
    "warnings.filterwarnings(\"ignore\")"
   ]
  },
  {
   "cell_type": "code",
   "execution_count": 2,
   "id": "137594a6-c856-441f-82ff-78250cf9e74f",
   "metadata": {
    "ExecuteTime": {
     "end_time": "2023-08-04T07:31:46.745850Z",
     "start_time": "2023-08-04T07:31:46.632050Z"
    },
    "tags": []
   },
   "outputs": [],
   "source": [
    "import json\n",
    "import numpy as np"
   ]
  },
  {
   "cell_type": "code",
   "execution_count": 3,
   "id": "95789170-a7d4-4924-ae23-3736e03ea006",
   "metadata": {
    "ExecuteTime": {
     "end_time": "2023-08-04T07:31:46.749563Z",
     "start_time": "2023-08-04T07:31:46.634904Z"
    },
    "tags": []
   },
   "outputs": [],
   "source": [
    "cwd = os.getcwd()\n",
    "\n",
    "parent_dir = os.path.dirname(cwd)\n",
    "\n",
    "sys.path.append(parent_dir)\n",
    "import draco \n",
    "import pandas as pd"
   ]
  },
  {
   "cell_type": "code",
   "execution_count": 4,
   "id": "9861c652",
   "metadata": {},
   "outputs": [],
   "source": [
    "import clingo\n",
    "\n",
    "def parse_fact_to_symbol(fact_str):\n",
    "    # Parses a string fact and returns a clingo.Symbol\n",
    "    return clingo.parse_term(fact_str.rstrip('.'))\n",
    "\n",
    "def convert_list_to_symbols(fact_list):\n",
    "    # Converts a list of string facts to an Iterable[Symbol]\n",
    "    return [parse_fact_to_symbol(fact) for fact in fact_list]\n",
    "\n"
   ]
  },
  {
   "cell_type": "code",
   "execution_count": 5,
   "id": "16831b8c",
   "metadata": {},
   "outputs": [],
   "source": [
    "def read_json_files_from_directory(directory_path):\n",
    "    # Dictionary to store the contents of each JSON file\n",
    "    json_data = {}\n",
    "\n",
    "    # List all files in the directory\n",
    "    for filename in os.listdir(directory_path):\n",
    "        if filename.endswith(\".json\"):\n",
    "            file_path = os.path.join(directory_path, filename)\n",
    "            \n",
    "            # Read and parse each JSON file\n",
    "            with open(file_path, 'r') as file:\n",
    "                try:\n",
    "                    data = json.load(file)\n",
    "                    json_data[filename] = data\n",
    "                except json.JSONDecodeError:\n",
    "                    print(f\"Error reading {filename}\")\n",
    "    \n",
    "    return json_data\n",
    "\n",
    "# Specify the directory path\n",
    "directory_path = './data'\n",
    "\n",
    "# Read JSON files into dictionaries\n",
    "files = read_json_files_from_directory(directory_path)"
   ]
  },
  {
   "cell_type": "code",
   "execution_count": 6,
   "id": "1c54d9c0",
   "metadata": {},
   "outputs": [],
   "source": [
    "str1= [\"attribute(task,root,value).\", \"attribute(number_rows,root,90).\", \"entity(field,root,0).\", \"attribute((field,name),0,n).\", \"attribute((field,type),0,string).\", \"attribute((field,entropy),0,1000).\", \"attribute((field,unique),0,3).\", \"entity(field,root,1).\", \"attribute((field,name),1,q1).\", \"attribute((field,type),1,number).\", \"attribute((field,entropy),1,3968).\", \"attribute((field,unique),1,90).\", \"attribute((field,interesting),1,true).\", \"entity(field,root,2).\", \"attribute((field,name),2,q2).\", \"attribute((field,type),2,number).\", \"attribute((field,entropy),2,1631).\", \"attribute((field,unique),2,90).\", \"entity(view,root,3).\", \"attribute((view,coordinates),3,cartesian).\", \"entity(mark,3,4).\", \"attribute((mark,type),4,point).\", \"entity(encoding,4,5).\", \"attribute((encoding,channel),5,x).\", \"attribute((encoding,field),5,q1).\", \"entity(encoding,4,6).\", \"attribute((encoding,channel),6,y).\", \"attribute((encoding,field),6,q2).\", \"entity(encoding,4,7).\", \"attribute((encoding,channel),7,color).\", \"attribute((encoding,field),7,n).\", \"entity(scale,3,8).\", \"attribute((scale,channel),8,x).\", \"attribute((scale,type),8,linear).\", \"attribute((scale,zero),8,false).\", \"entity(scale,3,9).\", \"attribute((scale,channel),9,y).\", \"attribute((scale,type),9,linear).\", \"attribute((scale,zero),9,true).\", \"entity(scale,3,10).\", \"attribute((scale,channel),10,color).\", \"attribute((scale,type),10,categorical).\"] \n",
    "str2 =[\"attribute(task,root,value).\", \"attribute(number_rows,root,90).\", \"entity(field,root,0).\", \"attribute((field,name),0,n).\", \"attribute((field,type),0,string).\", \"attribute((field,entropy),0,1000).\", \"attribute((field,unique),0,3).\", \"entity(field,root,1).\", \"attribute((field,name),1,q1).\", \"attribute((field,type),1,number).\", \"attribute((field,entropy),1,3968).\", \"attribute((field,unique),1,90).\", \"attribute((field,interesting),1,true).\", \"entity(field,root,2).\", \"attribute((field,name),2,q2).\", \"attribute((field,type),2,number).\", \"attribute((field,entropy),2,1631).\", \"attribute((field,unique),2,90).\", \"entity(view,root,3).\", \"attribute((view,coordinates),3,cartesian).\", \"entity(mark,3,4).\", \"attribute((mark,type),4,point).\", \"entity(encoding,4,5).\", \"attribute((encoding,channel),5,x).\", \"attribute((encoding,field),5,q1).\", \"entity(encoding,4,6).\", \"attribute((encoding,channel),6,y).\", \"attribute((encoding,field),6,q2).\", \"entity(encoding,4,7).\", \"attribute((encoding,channel),7,color).\", \"attribute((encoding,field),7,n).\", \"entity(scale,3,8).\", \"attribute((scale,channel),8,x).\", \"attribute((scale,type),8,linear).\", \"attribute((scale,zero),8,true).\", \"entity(scale,3,9).\", \"attribute((scale,channel),9,y).\", \"attribute((scale,type),9,linear).\", \"attribute((scale,zero),9,true).\", \"entity(scale,3,10).\", \"attribute((scale,channel),10,color).\", \"attribute((scale,type),10,categorical).\"]"
   ]
  },
  {
   "cell_type": "code",
   "execution_count": 7,
   "id": "89c30cb0",
   "metadata": {},
   "outputs": [
    {
     "data": {
      "text/plain": [
       "{'task': 'value',\n",
       " 'number_rows': 90,\n",
       " 'field': [{'name': 'n', 'type': 'string', 'entropy': 1000, 'unique': 3},\n",
       "  {'name': 'q1',\n",
       "   'type': 'number',\n",
       "   'entropy': 3968,\n",
       "   'unique': 90,\n",
       "   'interesting': 'true'},\n",
       "  {'name': 'q2', 'type': 'number', 'entropy': 1631, 'unique': 90}],\n",
       " 'view': [{'coordinates': 'cartesian',\n",
       "   'mark': [{'type': 'point',\n",
       "     'encoding': [{'channel': 'x', 'field': 'q1'},\n",
       "      {'channel': 'y', 'field': 'q2'},\n",
       "      {'channel': 'color', 'field': 'n'}]}],\n",
       "   'scale': [{'channel': 'x', 'type': 'linear', 'zero': 'false'},\n",
       "    {'channel': 'y', 'type': 'linear', 'zero': 'true'},\n",
       "    {'channel': 'color', 'type': 'categorical'}]}]}"
      ]
     },
     "execution_count": 7,
     "metadata": {},
     "output_type": "execute_result"
    }
   ],
   "source": [
    "draco.answer_set_to_dict(convert_list_to_symbols(str1))"
   ]
  },
  {
   "cell_type": "code",
   "execution_count": 8,
   "id": "e0c3f83f",
   "metadata": {},
   "outputs": [
    {
     "data": {
      "text/plain": [
       "{'task': 'value',\n",
       " 'number_rows': 90,\n",
       " 'field': [{'name': 'n', 'type': 'string', 'entropy': 1000, 'unique': 3},\n",
       "  {'name': 'q1',\n",
       "   'type': 'number',\n",
       "   'entropy': 3968,\n",
       "   'unique': 90,\n",
       "   'interesting': 'true'},\n",
       "  {'name': 'q2', 'type': 'number', 'entropy': 1631, 'unique': 90}],\n",
       " 'view': [{'coordinates': 'cartesian',\n",
       "   'mark': [{'type': 'point',\n",
       "     'encoding': [{'channel': 'x', 'field': 'q1'},\n",
       "      {'channel': 'y', 'field': 'q2'},\n",
       "      {'channel': 'color', 'field': 'n'}]}],\n",
       "   'scale': [{'channel': 'x', 'type': 'linear', 'zero': 'true'},\n",
       "    {'channel': 'y', 'type': 'linear', 'zero': 'true'},\n",
       "    {'channel': 'color', 'type': 'categorical'}]}]}"
      ]
     },
     "execution_count": 8,
     "metadata": {},
     "output_type": "execute_result"
    }
   ],
   "source": [
    "draco.answer_set_to_dict(convert_list_to_symbols(str2))"
   ]
  },
  {
   "cell_type": "code",
   "execution_count": 9,
   "id": "7a599358",
   "metadata": {},
   "outputs": [],
   "source": [
    "def correct_value_interesting(chart):\n",
    "    chart = chart.replace(\"'\", '\"')\n",
    "    try:\n",
    "        chart_dict = json.loads(chart)\n",
    "    except json.JSONDecodeError:\n",
    "        raise ValueError(\"Invalid JSON format\")\n",
    "\n",
    "    # Check for 'task': 'value'\n",
    "    if chart_dict.get('task') == 'value':\n",
    "        # Look for the field with {'name': 'n'}\n",
    "        n_found = False\n",
    "        for item in chart_dict.get('field', []):\n",
    "            if item.get('name') == 'n':\n",
    "                n_found = True\n",
    "                if 'interesting' in item:\n",
    "                    del item['interesting']\n",
    "                break\n",
    "        \n",
    "        if not n_found:\n",
    "            raise ValueError(\"No item with {'name': 'n'} found.\")\n",
    "\n",
    "    return json.dumps(chart_dict)"
   ]
  },
  {
   "cell_type": "code",
   "execution_count": 10,
   "id": "92878938",
   "metadata": {},
   "outputs": [],
   "source": [
    "def replace_entropy(d):\n",
    "    for var_dict in d[\"field\"]:\n",
    "        if var_dict[\"name\"] == \"n\":\n",
    "            var_dict[\"entropy\"] = \"high\"\n",
    "        elif var_dict[\"name\"] in (\"q1\", \"q2\"):\n",
    "            var_dict[\"entropy\"] = \"high\" if var_dict[\"entropy\"] > 3000 else \"low\"\n",
    "        else:\n",
    "            raise ValueError(\"unknown variable encountered\")\n",
    "    return d"
   ]
  },
  {
   "cell_type": "code",
   "execution_count": 11,
   "id": "22b33b5d-9a78-48d6-bdf2-215a532df42b",
   "metadata": {},
   "outputs": [],
   "source": [
    "count = 1\n",
    "for pair in files[\"kim2018_draco2.json\"]:\n",
    "    stu = 'kim2018'\n",
    "        \n",
    "    dir_path = f'./data/original_example_pairs_to_rank/{stu}'\n",
    "\n",
    "    # Check if the directory exists, create it if it does not\n",
    "    if not os.path.exists(dir_path):\n",
    "        os.makedirs(dir_path)\n",
    "    positive_data = draco.answer_set_to_dict(convert_list_to_symbols(pair['positive']))\n",
    "    negative_data = draco.answer_set_to_dict(convert_list_to_symbols(pair['negative']))\n",
    "    \n",
    "    # turn entropy values into high/lows\n",
    "    positive_data = replace_entropy(draco.answer_set_to_dict(convert_list_to_symbols(pair['positive'])))\n",
    "    negative_data = replace_entropy(draco.answer_set_to_dict(convert_list_to_symbols(pair['negative'])))\n",
    "\n",
    "    with open(f'./data/example_pairs_to_rank/{stu}/{count}_pos_first.txt', 'w') as file:\n",
    "        file.write('Chart 1: ' + correct_value_interesting(str(positive_data)) + '\\n\\n')\n",
    "        file.write('Chart 2: ' + correct_value_interesting(str(negative_data)))\n",
    "            \n",
    "    with open(f'./data/example_pairs_to_rank/{stu}/{count}_neg_first.txt', 'w') as file:\n",
    "        file.write('Chart 1: ' + correct_value_interesting(str(negative_data)) + '\\n\\n')\n",
    "        file.write('Chart 2: ' + correct_value_interesting(str(positive_data)))\n",
    "        \n",
    "    count += 1"
   ]
  }
 ],
 "metadata": {
  "kernelspec": {
   "display_name": "Python 3 (ipykernel)",
   "language": "python",
   "name": "python3"
  },
  "language_info": {
   "codemirror_mode": {
    "name": "ipython",
    "version": 3
   },
   "file_extension": ".py",
   "mimetype": "text/x-python",
   "name": "python",
   "nbconvert_exporter": "python",
   "pygments_lexer": "ipython3",
   "version": "3.11.5"
  }
 },
 "nbformat": 4,
 "nbformat_minor": 5
}
